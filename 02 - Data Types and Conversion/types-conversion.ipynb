{
 "cells": [
  {
   "cell_type": "markdown",
   "metadata": {},
   "source": [
    "# Data Types and Conversion\n",
    "---\n",
    "\n",
    "[Watch a walk-through of this lesson on YouTube](https://youtu.be/sxvdTbVmflk)\n",
    "\n"
   ]
  },
  {
   "cell_type": "markdown",
   "metadata": {},
   "source": [
    "## Questions:\n",
    "- What kinds of data do programs store?\n",
    "- How can I convert one type to another?\n",
    "\n",
    "## Learning Objectives:\n",
    "- Explain key differences between integers and floating point numbers.\n",
    "- Explain key differences between numbers and character strings.\n",
    "- Use built-in functions to convert between integers, floating point numbers, and strings.\n",
    "\n",
    "---"
   ]
  },
  {
   "cell_type": "markdown",
   "metadata": {},
   "source": [
    "## Every value has a type\n",
    "\n",
    "- Every value in a program has a specific type\n",
    "- Integer (`int`): represents positive or negative whole numbers like `3` or `-512`\n",
    "- Floating point number (`float`): represents real numbers like `3.14159` or `-2.5`\n",
    "- Character (`char`): single characters, for example `\"a\"`, `\"j\"`, `\"8\"`, `\"(\"`\n",
    "    * Characters are written in either single quotes or double quotes (as long as they match)\n",
    "    * Numerals placed in quotes will be treated as characters, not integers or floats\n",
    "- Character string (usually called \"string\", `str`): text\n",
    "    - Written in either single quotes or double quotes (as long as they match)\n",
    "    - The quote marks aren't printed when the string is displayed"
   ]
  },
  {
   "cell_type": "markdown",
   "metadata": {},
   "source": [
    "## Use the built-in function `type` to find the type of a value\n",
    "\n",
    "- Use the built-in function `type` to find out what type a value has\n",
    "- Works on variables as well\n",
    "    - But remember: the *value* has the type; the *variable* is just a label\n",
    "\n",
    "~~~python\n",
    "print(type(52))\n",
    "~~~"
   ]
  },
  {
   "cell_type": "code",
   "execution_count": 3,
   "metadata": {
    "collapsed": false,
    "jupyter": {
     "outputs_hidden": false
    }
   },
   "outputs": [
    {
     "name": "stdout",
     "output_type": "stream",
     "text": [
      "<class 'int'>\n",
      "<class 'float'>\n",
      "<class 'str'>\n",
      "<class 'str'>\n"
     ]
    }
   ],
   "source": [
    "print(type(52))\n",
    "print(type(1.415))\n",
    "print(type('a'))\n",
    "print(type('Today is Wednesday, Jan 8'))"
   ]
  },
  {
   "cell_type": "markdown",
   "metadata": {},
   "source": [
    "~~~python\n",
    "fitness = 'average'\n",
    "print(type(fitness))\n",
    "~~~\n"
   ]
  },
  {
   "cell_type": "code",
   "execution_count": 8,
   "metadata": {
    "collapsed": false,
    "jupyter": {
     "outputs_hidden": false
    }
   },
   "outputs": [
    {
     "name": "stdout",
     "output_type": "stream",
     "text": [
      "<class 'str'>\n",
      "<class 'float'>\n",
      "<class 'str'>\n"
     ]
    }
   ],
   "source": [
    "#variables also have a type\n",
    "fitness = 'average'\n",
    "print(type(fitness))\n",
    "\n",
    "time = 4.32\n",
    "print(type(time))\n",
    "\n",
    "letter = 'x'\n",
    "print(type(letter))"
   ]
  },
  {
   "cell_type": "markdown",
   "metadata": {},
   "source": [
    "Nested functions such as `print(type())` are evaluated from the inside out, like in mathematics."
   ]
  },
  {
   "cell_type": "markdown",
   "metadata": {},
   "source": [
    "## Types control what operations (or methods) can be performed on a given value\n",
    "\n",
    "A value's type determines what the program can do to it. So we can perform subtraction on integers:\n",
    "\n",
    "~~~python\n",
    "print(5 - 3)\n",
    "~~~"
   ]
  },
  {
   "cell_type": "code",
   "execution_count": 11,
   "metadata": {
    "collapsed": false,
    "jupyter": {
     "outputs_hidden": false
    }
   },
   "outputs": [
    {
     "name": "stdout",
     "output_type": "stream",
     "text": [
      "2\n",
      "2.5\n"
     ]
    }
   ],
   "source": [
    "print(5-3)\n",
    "\n",
    "print(5-2.5)"
   ]
  },
  {
   "cell_type": "markdown",
   "metadata": {},
   "source": [
    "But not on strings or characters:\n",
    "~~~python\n",
    "print('hello' - 'h')\n",
    "~~~"
   ]
  },
  {
   "cell_type": "code",
   "execution_count": 12,
   "metadata": {
    "collapsed": false,
    "jupyter": {
     "outputs_hidden": false
    }
   },
   "outputs": [
    {
     "ename": "TypeError",
     "evalue": "unsupported operand type(s) for -: 'str' and 'str'",
     "output_type": "error",
     "traceback": [
      "\u001b[0;31m---------------------------------------------------------------------------\u001b[0m",
      "\u001b[0;31mTypeError\u001b[0m                                 Traceback (most recent call last)",
      "Cell \u001b[0;32mIn[12], line 1\u001b[0m\n\u001b[0;32m----> 1\u001b[0m \u001b[38;5;28mprint\u001b[39m(\u001b[38;5;124;43m'\u001b[39;49m\u001b[38;5;124;43mhello\u001b[39;49m\u001b[38;5;124;43m'\u001b[39;49m\u001b[38;5;241;43m-\u001b[39;49m\u001b[38;5;124;43m'\u001b[39;49m\u001b[38;5;124;43mh\u001b[39;49m\u001b[38;5;124;43m'\u001b[39;49m)\n",
      "\u001b[0;31mTypeError\u001b[0m: unsupported operand type(s) for -: 'str' and 'str'"
     ]
    }
   ],
   "source": [
    "#subtraction cannot be used on characters and strings\n",
    "print('hello'-'h')"
   ]
  },
  {
   "cell_type": "markdown",
   "metadata": {},
   "source": [
    "## You *can* use the `+` and `*` operators on strings\n",
    "\n",
    "\"Adding\" character strings concatenates them; i.e., creates one long string by combinging the inputs in the order you specify\n",
    "\n",
    "~~~python\n",
    "full_name = 'Ahmed' + 'Walsh'\n",
    "print(full_name)\n",
    "~~~"
   ]
  },
  {
   "cell_type": "code",
   "execution_count": 13,
   "metadata": {
    "collapsed": false,
    "jupyter": {
     "outputs_hidden": false
    }
   },
   "outputs": [
    {
     "name": "stdout",
     "output_type": "stream",
     "text": [
      "AhmedWalsh\n"
     ]
    }
   ],
   "source": [
    "full_name = 'Ahmed' + 'Walsh'\n",
    "print(full_name)"
   ]
  },
  {
   "cell_type": "markdown",
   "metadata": {},
   "source": [
    "To add spaces between strings that you concateate, you need to explicitly include whitespaces in quotes:\n",
    "\n",
    "~~~python\n",
    "full_name = 'Ahmed' + ' ' + 'Walsh'\n",
    "print(full_name)\n",
    "~~~"
   ]
  },
  {
   "cell_type": "code",
   "execution_count": 14,
   "metadata": {
    "collapsed": false,
    "jupyter": {
     "outputs_hidden": false
    }
   },
   "outputs": [
    {
     "name": "stdout",
     "output_type": "stream",
     "text": [
      "Ahmed Walsh\n"
     ]
    }
   ],
   "source": [
    "full_name = 'Ahmed' + ' ' + 'Walsh'\n",
    "print(full_name)"
   ]
  },
  {
   "cell_type": "markdown",
   "metadata": {},
   "source": [
    "Multiplying a character string by an integer _N_ creates a new string that consists of that character string repeated  _N_ times. (Since multiplication is repeated addition)\n",
    "\n",
    "~~~python\n",
    "greeting = 'hello-' * 3\n",
    "print(greeting)\n",
    "~~~\n"
   ]
  },
  {
   "cell_type": "code",
   "execution_count": 15,
   "metadata": {
    "collapsed": false,
    "jupyter": {
     "outputs_hidden": false
    }
   },
   "outputs": [
    {
     "name": "stdout",
     "output_type": "stream",
     "text": [
      "hello-hello-hello-hello-hello-\n"
     ]
    }
   ],
   "source": [
    "#repeating the strings\n",
    "greeting = 'hello-' * 5\n",
    "print(greeting)"
   ]
  },
  {
   "cell_type": "code",
   "execution_count": null,
   "metadata": {},
   "outputs": [],
   "source": []
  },
  {
   "cell_type": "markdown",
   "metadata": {},
   "source": [
    "## Strings have a length (but numbers don't)\n",
    "\n",
    "The built-in function `len` counts the number of characters in a string.\n",
    "\n",
    "~~~python\n",
    "print(len(full_name))\n",
    "~~~"
   ]
  },
  {
   "cell_type": "code",
   "execution_count": 16,
   "metadata": {
    "collapsed": false,
    "jupyter": {
     "outputs_hidden": false
    }
   },
   "outputs": [
    {
     "name": "stdout",
     "output_type": "stream",
     "text": [
      "11\n"
     ]
    }
   ],
   "source": [
    "print(len(full_name))"
   ]
  },
  {
   "cell_type": "markdown",
   "metadata": {},
   "source": [
    "But numbers don't have a length (not even zero).\n",
    "\n",
    "~~~python\n",
    "print(len(52))\n",
    "~~~\n"
   ]
  },
  {
   "cell_type": "code",
   "execution_count": 17,
   "metadata": {
    "collapsed": false,
    "jupyter": {
     "outputs_hidden": false
    }
   },
   "outputs": [
    {
     "ename": "TypeError",
     "evalue": "object of type 'int' has no len()",
     "output_type": "error",
     "traceback": [
      "\u001b[0;31m---------------------------------------------------------------------------\u001b[0m",
      "\u001b[0;31mTypeError\u001b[0m                                 Traceback (most recent call last)",
      "Cell \u001b[0;32mIn[17], line 1\u001b[0m\n\u001b[0;32m----> 1\u001b[0m \u001b[38;5;28mprint\u001b[39m(\u001b[38;5;28;43mlen\u001b[39;49m\u001b[43m(\u001b[49m\u001b[38;5;241;43m52\u001b[39;49m\u001b[43m)\u001b[49m)\n",
      "\u001b[0;31mTypeError\u001b[0m: object of type 'int' has no len()"
     ]
    }
   ],
   "source": [
    "#no length\n",
    "print(len(52))"
   ]
  },
  {
   "cell_type": "markdown",
   "metadata": {},
   "source": [
    "## Use an **index** to get a single character from a string.\n",
    "\n",
    "- An item in a string is called an **element** — the string's elements are its individual characters\n",
    "- The characters (individual letters, numbers, and so on) in a string are ordered. For example, the string `'AB'` is not the same as `'BA'`. Because of this ordering, we can treat the string as a list of characters\n",
    "- Each position in the string (first, second, etc.) is given a number. This number is called an **index**\n",
    "- Indices are numbered from 0\n",
    "- Use the position's index in square brackets to get the character at that position\n",
    "    \n",
    "![an illustration of indexing](images/2_indexing.svg)\n",
    "\n",
    "~~~python\n",
    "atom_name = 'helium'\n",
    "print(atom_name[0])\n",
    "~~~"
   ]
  },
  {
   "cell_type": "code",
   "execution_count": 21,
   "metadata": {
    "collapsed": false,
    "jupyter": {
     "outputs_hidden": false
    }
   },
   "outputs": [
    {
     "name": "stdout",
     "output_type": "stream",
     "text": [
      "lil\n"
     ]
    }
   ],
   "source": [
    "atom_name = 'helium'\n",
    "print(atom_name[2] + atom_name[3] + atom_name[2])"
   ]
  },
  {
   "cell_type": "markdown",
   "metadata": {},
   "source": [
    "## Use a **slice** to get a substring.\n",
    "\n",
    "\n",
    "- A part of a string is called a **substring**. A substring can be as short as a  single character.\n",
    "- The operation to get a substring is called **slicing**\n",
    "- We take a slice by using `[start:stop]`, where `start` is replaced with the index of the first element we want and `stop` is replaced with the index of the element *just after* the last element we want\n",
    "- Mathematically, you might say that a slice selects `[start:stop)`\n",
    "- The difference between `stop` and `start` is the slice's length\n",
    "- Taking a slice does not change the contents of the original string. Instead, the slice is a copy of part of the original string\n",
    "\n",
    "~~~python\n",
    "atom_name = 'sodium'\n",
    "print(atom_name[0:3])\n",
    "~~~\n",
    "\n"
   ]
  },
  {
   "cell_type": "code",
   "execution_count": 24,
   "metadata": {
    "nteract": {
     "transient": {
      "deleting": false
     }
    },
    "tags": []
   },
   "outputs": [
    {
     "name": "stdout",
     "output_type": "stream",
     "text": [
      "so\n",
      "6\n"
     ]
    }
   ],
   "source": [
    "#up to, but not includint the last value in the string\n",
    "atom_name = 'sodium'\n",
    "print(atom_name[0:2])\n",
    "\n",
    "print(len(atom_name))"
   ]
  },
  {
   "cell_type": "markdown",
   "metadata": {},
   "source": [
    "## Slicing numbers?\n",
    "\n",
    "If you assign `a = 123`,\n",
    "what happens if you try to get the second digit of `a` via `a[1]`?"
   ]
  },
  {
   "cell_type": "code",
   "execution_count": 26,
   "metadata": {
    "collapsed": false,
    "jupyter": {
     "outputs_hidden": false
    }
   },
   "outputs": [
    {
     "ename": "TypeError",
     "evalue": "'int' object is not subscriptable",
     "output_type": "error",
     "traceback": [
      "\u001b[0;31m---------------------------------------------------------------------------\u001b[0m",
      "\u001b[0;31mTypeError\u001b[0m                                 Traceback (most recent call last)",
      "Cell \u001b[0;32mIn[26], line 2\u001b[0m\n\u001b[1;32m      1\u001b[0m a \u001b[38;5;241m=\u001b[39m \u001b[38;5;241m123\u001b[39m\n\u001b[0;32m----> 2\u001b[0m \u001b[38;5;28mprint\u001b[39m(\u001b[43ma\u001b[49m\u001b[43m[\u001b[49m\u001b[38;5;241;43m1\u001b[39;49m\u001b[43m]\u001b[49m)\n",
      "\u001b[0;31mTypeError\u001b[0m: 'int' object is not subscriptable"
     ]
    }
   ],
   "source": [
    "#int cannot be sliced \n",
    "a = 123\n",
    "print(a[1])"
   ]
  },
  {
   "cell_type": "markdown",
   "metadata": {},
   "source": [
    "### Solution\n",
    "Numbers are not strings or sequences and Python will raise an error if you try to perform an index operation on a number. In the  lesson on types and type conversion we will learn more about types and how to convert between different types. If you want the Nth digit of a number you can convert it into a string using the `str` built-in function and then perform an index operation on that string."
   ]
  },
  {
   "cell_type": "markdown",
   "metadata": {},
   "source": [
    "## Slicing practice\n",
    "\n",
    "What does the following program print?\n",
    "\n",
    "~~~python\n",
    "atom_name = 'carbon'\n",
    "print('atom_name[1:3] is:', atom_name[1:3])\n",
    "~~~"
   ]
  },
  {
   "cell_type": "code",
   "execution_count": 28,
   "metadata": {
    "collapsed": false,
    "jupyter": {
     "outputs_hidden": false
    }
   },
   "outputs": [
    {
     "name": "stdout",
     "output_type": "stream",
     "text": [
      "atom_name[1:3] is: ar\n",
      "ar is: ar\n"
     ]
    }
   ],
   "source": [
    "atom_name = 'carbon'\n",
    "print('atom_name[1:3] is:', atom_name[1:3])\n",
    "\n",
    "#another way\n",
    "print(atom_name[1:3], 'is:', atom_name[1:3])"
   ]
  },
  {
   "cell_type": "markdown",
   "metadata": {},
   "source": [
    "## Slicing concepts\n",
    "\n",
    "```python\n",
    "cell_name = 'neuron'\n",
    "```\n",
    "\n",
    "1.  What does `cell_name[1:5]` do?\n",
    "1.  What does `cell_name[0:5]` do?\n",
    "1.  What does `cell_name[0:6]` do?\n",
    "2.  What does `cell_name[0:]` (without a value after the colon) do?\n",
    "3.  What does `cell_name[:5]` (without a value before the colon) do?\n",
    "4.  What does `cell_name[:]` (just a colon) do?\n",
    "5.  What does `cell_name[1:-1]` do?\n",
    "6.  What happens when you choose a high value (.e., the value after the colon) which is out of range? (i.e., try `cell_name[1:99]`) "
   ]
  },
  {
   "cell_type": "code",
   "execution_count": 30,
   "metadata": {
    "collapsed": false,
    "jupyter": {
     "outputs_hidden": false
    }
   },
   "outputs": [
    {
     "name": "stdout",
     "output_type": "stream",
     "text": [
      "euro\n",
      "neuro\n",
      "neuron\n",
      "neuron\n",
      "neuro\n",
      "neuron\n",
      "euro\n",
      "neuron\n"
     ]
    }
   ],
   "source": [
    "cell_name = 'neuron'\n",
    "\n",
    "#should print --> euro\n",
    "print(cell_name[1:5]) #correct\n",
    "\n",
    "#should print --> neuro\n",
    "print(cell_name[0:5]) #correct\n",
    "\n",
    "#should print --> neuron\n",
    "print(cell_name[0:6]) #correct\n",
    "\n",
    "#potentially print --> neuron (i.e. everything after the specified value incl. the value itself)\n",
    "print(cell_name[0:]) #correct\n",
    "\n",
    "#potentially print --> neuro (i.e. eferything before the value, NOT incl. the value itself)\n",
    "print(cell_name[:5]) #correct\n",
    "\n",
    "#potentially print --> neuron (i.e. the whole string)\n",
    "print(cell_name[:]) #correct\n",
    "\n",
    "#might potentially give an error\n",
    "print(cell_name[1:-1]) #incorrect; printed --> euro??? (-1 means one before the end of the string)\n",
    "\n",
    "#might print the whole string anyways \n",
    "print(cell_name[0:99]) #correct"
   ]
  },
  {
   "cell_type": "markdown",
   "metadata": {},
   "source": [
    "## You must convert numbers to strings or vice versa when operating on them\n",
    "\n",
    "Cannot add numbers and strings.\n",
    "\n",
    "~~~python\n",
    "print(1 + '2')\n",
    "~~~"
   ]
  },
  {
   "cell_type": "code",
   "execution_count": 31,
   "metadata": {
    "collapsed": false,
    "jupyter": {
     "outputs_hidden": false
    }
   },
   "outputs": [
    {
     "ename": "TypeError",
     "evalue": "unsupported operand type(s) for +: 'int' and 'str'",
     "output_type": "error",
     "traceback": [
      "\u001b[0;31m---------------------------------------------------------------------------\u001b[0m",
      "\u001b[0;31mTypeError\u001b[0m                                 Traceback (most recent call last)",
      "Cell \u001b[0;32mIn[31], line 1\u001b[0m\n\u001b[0;32m----> 1\u001b[0m \u001b[38;5;28mprint\u001b[39m(\u001b[38;5;241;43m1\u001b[39;49m\u001b[43m \u001b[49m\u001b[38;5;241;43m+\u001b[39;49m\u001b[43m \u001b[49m\u001b[38;5;124;43m'\u001b[39;49m\u001b[38;5;124;43m2\u001b[39;49m\u001b[38;5;124;43m'\u001b[39;49m)\n",
      "\u001b[0;31mTypeError\u001b[0m: unsupported operand type(s) for +: 'int' and 'str'"
     ]
    }
   ],
   "source": [
    "print(1 + '2')"
   ]
  },
  {
   "cell_type": "markdown",
   "metadata": {},
   "source": [
    "This is not allowed because it's ambiguous: should `1 + '2'` be `3` or `'12'`?\n",
    "\n",
    "Some types can be converted to other types by using the type name as a function:\n",
    "\n",
    "~~~python\n",
    "print(1 + int('2'))\n",
    "~~~"
   ]
  },
  {
   "cell_type": "code",
   "execution_count": 32,
   "metadata": {
    "collapsed": false,
    "jupyter": {
     "outputs_hidden": false
    }
   },
   "outputs": [
    {
     "name": "stdout",
     "output_type": "stream",
     "text": [
      "3\n"
     ]
    }
   ],
   "source": [
    "#changin a string into an integer\n",
    "print(1 + int('2'))"
   ]
  },
  {
   "cell_type": "markdown",
   "metadata": {},
   "source": [
    "~~~python\n",
    "print(str(1) + '2')\n",
    "~~~"
   ]
  },
  {
   "cell_type": "code",
   "execution_count": 33,
   "metadata": {
    "collapsed": false,
    "jupyter": {
     "outputs_hidden": false
    }
   },
   "outputs": [
    {
     "name": "stdout",
     "output_type": "stream",
     "text": [
      "12\n"
     ]
    }
   ],
   "source": [
    "#changing an integer into a string\n",
    "print(str(1)+ '2')"
   ]
  },
  {
   "cell_type": "markdown",
   "metadata": {},
   "source": [
    "## You can mix integers and floats freely in operations\n",
    "\n",
    "Python 3 automatically converts integers to floats as needed. This was not the case in Python 2, but that is now obsolete. \n",
    "\n",
    "~~~python\n",
    "print('half is', 1 / 2.0)\n",
    "print('three squared is', 3.0 ** 2)\n",
    "~~~"
   ]
  },
  {
   "cell_type": "code",
   "execution_count": 34,
   "metadata": {
    "collapsed": false,
    "jupyter": {
     "outputs_hidden": false
    }
   },
   "outputs": [
    {
     "name": "stdout",
     "output_type": "stream",
     "text": [
      "half is 0.5\n"
     ]
    }
   ],
   "source": [
    "print('half is', 1/2.0)"
   ]
  },
  {
   "cell_type": "code",
   "execution_count": 35,
   "metadata": {},
   "outputs": [
    {
     "name": "stdout",
     "output_type": "stream",
     "text": [
      "three squared is 9.0\n"
     ]
    }
   ],
   "source": [
    "# ** is to the power of\n",
    "print('three squared is', 3.0 ** 2)"
   ]
  },
  {
   "cell_type": "markdown",
   "metadata": {},
   "source": [
    "---\n",
    "# Exercises\n",
    "\n",
    "## Fractions\n",
    "\n",
    "What type of value is 3.4?\n",
    "How can you find out?"
   ]
  },
  {
   "cell_type": "code",
   "execution_count": 36,
   "metadata": {
    "collapsed": false,
    "jupyter": {
     "outputs_hidden": false
    }
   },
   "outputs": [
    {
     "name": "stdout",
     "output_type": "stream",
     "text": [
      "<class 'float'>\n"
     ]
    }
   ],
   "source": [
    "#3.4 is a float and to check we need to use a command type()\n",
    "print(type(3.4))"
   ]
  },
  {
   "cell_type": "markdown",
   "metadata": {},
   "source": [
    "## Automatic Type Conversion\n",
    "\n",
    "What type of value is 3.25 + 4?\n"
   ]
  },
  {
   "cell_type": "code",
   "execution_count": 37,
   "metadata": {
    "collapsed": false,
    "jupyter": {
     "outputs_hidden": false
    }
   },
   "outputs": [
    {
     "name": "stdout",
     "output_type": "stream",
     "text": [
      "<class 'float'>\n"
     ]
    }
   ],
   "source": [
    "#3.25 + 4 will become a float because when integers interact with floats, the result is a float\n",
    "print(type(3.25 + 4))"
   ]
  },
  {
   "cell_type": "markdown",
   "metadata": {},
   "source": [
    "## Choose a Type\n",
    "\n",
    "What type of value (integer, floating point number, or character string)\n",
    "would you use to represent each of the following?  Try to come up with more than one good answer for each problem.  For example, in (1), when would counting days with a floating point variable make more sense than using an integer?  \n",
    "\n",
    "1. Number of days since the start of the year.\n",
    "2. Time elapsed from the start of the year until now in days.\n",
    "3. Serial number of a piece of lab equipment.\n",
    "4. A lab specimen's age\n",
    "5. Current population of a city.\n",
    "6. Average population of a city over time."
   ]
  },
  {
   "cell_type": "markdown",
   "metadata": {},
   "source": [
    "### Answers\n",
    "1. Number of days would be best represented as integers most of the time, but floats can be used when a fraction of the day needs to be specified. \n",
    "2. Depending on the units used, floats or integers can be used. For example, days would likely be integers but hours with decimals in floats.\n",
    "3. Serial numbers containing letters and numbers would be strings, and containing just numbers would be integers.\n",
    "4. Some specimen can be aged from milliseconds to decades, so depending on the measurement precision the values could be floats or integers (i.e. more precise values are more likely to be floats).\n",
    "5. If the value is very specific, it must be an integer (since half a human would be questionable to count), but if more rounded numbers are used (to thousands or millions), then floats can be used for the purpose. \n",
    "6. Averages are usually rounded, so would generally used for that purpose, in addition to averages permitting fractions of a single person to be seen on a number, again calling for the help of the floats. "
   ]
  },
  {
   "cell_type": "markdown",
   "metadata": {},
   "source": [
    "## Solution\n",
    "\n",
    "The answers to the questions are:\n",
    "1. Integer, since the number of days would lie between 1 and 365. Float would make sense if you were considering partial days (e.g., if it's noon then today would count as 0.5)\n",
    "2. Floating point, since fractional days are required\n",
    "3. If serial number contains letters and numbers, then a character string. If the serial number consists only of numerals, then an integer could be used, although a character string could also be used.\n",
    "4. This will vary! How do you define a specimen's age? whole days since collection (integer)? date and time (string)?\n",
    "5. Choose integer to represent population in units of individuals, or floating point to represent population as large aggregates (eg millions)\n",
    "6. Floating point number, since an average is likely to have a fractional part.\n"
   ]
  },
  {
   "cell_type": "markdown",
   "metadata": {},
   "source": [
    "## Division Types\n",
    "\n",
    "In Python 3:\n",
    "- the `//` operator performs integer (whole-number) floor division\n",
    "- the `/` operator performs floating-point division\n",
    "- the '%' (or *modulo*) operator calculates and returns the remainder from integer division:\n",
    "\n",
    "~~~python\n",
    "print('5 // 3 = ', 5 // 3)\n",
    "~~~"
   ]
  },
  {
   "cell_type": "code",
   "execution_count": 39,
   "metadata": {
    "collapsed": false,
    "jupyter": {
     "outputs_hidden": false
    }
   },
   "outputs": [
    {
     "name": "stdout",
     "output_type": "stream",
     "text": [
      "5 / 3 =  1\n"
     ]
    }
   ],
   "source": [
    "#floor division or whole number division\n",
    "\n",
    "#computes the result and rounds it down to the integer\n",
    "print('5 // 3 = ', 5 // 3 )"
   ]
  },
  {
   "cell_type": "markdown",
   "metadata": {},
   "source": [
    "~~~python\n",
    "print('5 / 3 = ', 5 / 3)\n",
    "~~~"
   ]
  },
  {
   "cell_type": "code",
   "execution_count": 38,
   "metadata": {
    "collapsed": false,
    "jupyter": {
     "outputs_hidden": false
    }
   },
   "outputs": [
    {
     "name": "stdout",
     "output_type": "stream",
     "text": [
      "5 / 3 =  1.6666666666666667\n"
     ]
    }
   ],
   "source": [
    "#floating point division\n",
    "\n",
    "#just regular division\n",
    "print('5 / 3 = ', 5 / 3)"
   ]
  },
  {
   "cell_type": "markdown",
   "metadata": {},
   "source": [
    "~~~python\n",
    "print('5 % 3 =', 5 % 3)\n",
    "~~~"
   ]
  },
  {
   "cell_type": "code",
   "execution_count": 40,
   "metadata": {
    "collapsed": false,
    "jupyter": {
     "outputs_hidden": false
    }
   },
   "outputs": [
    {
     "name": "stdout",
     "output_type": "stream",
     "text": [
      "5 % 3 =  2\n"
     ]
    }
   ],
   "source": [
    "#modula division\n",
    "\n",
    "#gives the remainder of floor division\n",
    "print('5 % 3 = ', 5 % 3)"
   ]
  },
  {
   "cell_type": "markdown",
   "metadata": {},
   "source": [
    "## Division Challenge\n",
    "\n",
    "Imagine we are catering an event for 100 guests, and for dessert we want to serve each person one slice of pie. Each pie yields 8 pieces. How do we calculate the number of pies we need? \n",
    "\n",
    "We can start by simply dividing the number of guests by the number of slices per pie:\n",
    "\n",
    "```python\n",
    "pie_eaters = 100\n",
    "slice_per_pie = 8\n",
    "num_pies = pie_eaters / slice_per_pie\n",
    "print(pie_eaters, 'guests', 'requires', num_pies, 'pies')\n",
    "```"
   ]
  },
  {
   "cell_type": "code",
   "execution_count": 41,
   "metadata": {
    "collapsed": false,
    "jupyter": {
     "outputs_hidden": false
    }
   },
   "outputs": [
    {
     "name": "stdout",
     "output_type": "stream",
     "text": [
      "100 guests require 12.5 pies\n"
     ]
    }
   ],
   "source": [
    "#explicitly specify variables so the code is more readable\n",
    "pie_eaters = 100\n",
    "slice_per_pie = 8\n",
    "num_pies = pie_eaters / slice_per_pie\n",
    "print(pie_eaters, 'guests require', num_pies, 'pies')"
   ]
  },
  {
   "cell_type": "markdown",
   "metadata": {},
   "source": [
    "However, this yields a floating point number. We can't easily bake half a pie, so we need to round up to ensure we have enough pies. We can use floor division for this:\n",
    "\n",
    "```python\n",
    "num_pies = pie_eaters // slice_per_pie\n",
    "print(pie_eaters, 'guests', 'requires', num_pies, 'pies')\n",
    "```"
   ]
  },
  {
   "cell_type": "code",
   "execution_count": 42,
   "metadata": {
    "collapsed": false,
    "jupyter": {
     "outputs_hidden": false
    }
   },
   "outputs": [
    {
     "name": "stdout",
     "output_type": "stream",
     "text": [
      "100 guests reqire 12 pies\n"
     ]
    }
   ],
   "source": [
    "num_pies = pie_eaters // slice_per_pie\n",
    "print(pie_eaters, 'guests reqire', num_pies, 'pies')"
   ]
  },
  {
   "cell_type": "markdown",
   "metadata": {},
   "source": [
    "Of course, we actually need one more pie than that, but Python doesn't provide an operator for rounding up (\"ceiling\" division). So we can simply add 1 to our answer:\n",
    "\n",
    "```python\n",
    "num_pies = pie_eaters // slice_per_pie + 1\n",
    "print(pie_eaters, 'guests', 'requires', num_pies, 'pies')\n",
    "```\n",
    "\n",
    "Note that Python uses standard order of operations, so the division will be performed before the addition. That is, we will get:\n",
    "\n",
    "`(pie_eaters // slice_per_pie) + 1`\n",
    "\n",
    "not\n",
    "\n",
    "`pie_eaters // (slice_per_pie + 1)`\n"
   ]
  },
  {
   "cell_type": "code",
   "execution_count": 43,
   "metadata": {
    "collapsed": false,
    "jupyter": {
     "outputs_hidden": false
    }
   },
   "outputs": [
    {
     "name": "stdout",
     "output_type": "stream",
     "text": [
      "100 guests require 13 pies\n"
     ]
    }
   ],
   "source": [
    "#just add one to simulate ceiling division\n",
    "num_pies = pie_eaters // slice_per_pie + 1\n",
    "print(pie_eaters, 'guests require', num_pies, 'pies')"
   ]
  },
  {
   "cell_type": "markdown",
   "metadata": {},
   "source": [
    "When writing code, it's good to test it and think about possible cases where it won't work as intended. In this example, if the number of guests was evenly divisible by 8, then our calculation would erroneously tell us we need one more pie than we do:\n",
    "\n",
    "```python\n",
    "pie_eaters = 64\n",
    "num_pies = pie_eaters // slice_per_pie + 1\n",
    "print(pie_eaters, 'guests', 'requires', num_pies, 'pies')\n",
    "```"
   ]
  },
  {
   "cell_type": "code",
   "execution_count": 44,
   "metadata": {
    "collapsed": false,
    "jupyter": {
     "outputs_hidden": false
    }
   },
   "outputs": [
    {
     "name": "stdout",
     "output_type": "stream",
     "text": [
      "64 guests requires 9 pies\n"
     ]
    }
   ],
   "source": [
    "#code gives the wrong output in this scenario when the number of guests is divisible by 8\n",
    "pie_eaters = 64\n",
    "num_pies = pie_eaters // slice_per_pie + 1\n",
    "print(pie_eaters, 'guests requires', num_pies, 'pies')"
   ]
  },
  {
   "cell_type": "markdown",
   "metadata": {},
   "source": [
    "We can make our code more robust by subtracting 1 to `pie_eaters` within the formula:\n",
    "\n",
    "```python\n",
    "num_pies = (pie_eaters - 1) // slice_per_pie + 1\n",
    "print(pie_eaters, 'guests', 'requires', num_pies, 'pies')\n",
    "```"
   ]
  },
  {
   "cell_type": "code",
   "execution_count": 45,
   "metadata": {
    "collapsed": false,
    "jupyter": {
     "outputs_hidden": false
    }
   },
   "outputs": [
    {
     "name": "stdout",
     "output_type": "stream",
     "text": [
      "64 guests require 8 pies\n"
     ]
    }
   ],
   "source": [
    "num_pies = (pie_eaters - 1) // slice_per_pie + 1\n",
    "print(pie_eaters, 'guests require', num_pies, 'pies')"
   ]
  },
  {
   "cell_type": "markdown",
   "metadata": {},
   "source": [
    "## Strings to Numbers\n",
    "\n",
    "Where reasonable, `float()` will convert a string to a floating point number,\n",
    "and `int()` will convert a floating point number to an integer:\n",
    "\n",
    "~~~python\n",
    "print(\"string to float:\", float(\"3.4\"))\n",
    "print(\"float to int:\", int(3.4))\n",
    "~~~"
   ]
  },
  {
   "cell_type": "code",
   "execution_count": 46,
   "metadata": {
    "collapsed": false,
    "jupyter": {
     "outputs_hidden": false
    }
   },
   "outputs": [
    {
     "name": "stdout",
     "output_type": "stream",
     "text": [
      "string to float: 3.4\n",
      "float to int: 3\n"
     ]
    }
   ],
   "source": [
    "print('string to float:', float('3.4'))\n",
    "\n",
    "#just deletes anything after a point\n",
    "print('float to int:', int(3.4))"
   ]
  },
  {
   "cell_type": "markdown",
   "metadata": {},
   "source": [
    "If the conversion doesn't make sense, however, an error message will occur\n",
    "\n",
    "~~~python\n",
    "print(\"string to float:\", float(\"Hello world!\"))\n",
    "~~~"
   ]
  },
  {
   "cell_type": "code",
   "execution_count": 47,
   "metadata": {
    "collapsed": false,
    "jupyter": {
     "outputs_hidden": false
    }
   },
   "outputs": [
    {
     "ename": "ValueError",
     "evalue": "could not convert string to float: 'Hello World'",
     "output_type": "error",
     "traceback": [
      "\u001b[0;31m---------------------------------------------------------------------------\u001b[0m",
      "\u001b[0;31mValueError\u001b[0m                                Traceback (most recent call last)",
      "Cell \u001b[0;32mIn[47], line 1\u001b[0m\n\u001b[0;32m----> 1\u001b[0m \u001b[38;5;28mprint\u001b[39m(\u001b[38;5;124m'\u001b[39m\u001b[38;5;124msting to float:\u001b[39m\u001b[38;5;124m'\u001b[39m, \u001b[38;5;28;43mfloat\u001b[39;49m\u001b[43m(\u001b[49m\u001b[38;5;124;43m'\u001b[39;49m\u001b[38;5;124;43mHello World\u001b[39;49m\u001b[38;5;124;43m'\u001b[39;49m\u001b[43m)\u001b[49m)\n",
      "\u001b[0;31mValueError\u001b[0m: could not convert string to float: 'Hello World'"
     ]
    }
   ],
   "source": [
    "print('sting to float:', float('Hello World'))"
   ]
  },
  {
   "cell_type": "markdown",
   "metadata": {},
   "source": [
    "Given this information, what do you expect the following program to do?\n",
    "\n",
    "~~~python\n",
    "print(\"fractional string to int:\", int(\"3.4\"))\n",
    "~~~\n",
    "\n",
    "- What does it actually do?\n",
    "\n",
    "- Why do you think it does that?"
   ]
  },
  {
   "cell_type": "code",
   "execution_count": 48,
   "metadata": {
    "collapsed": false,
    "jupyter": {
     "outputs_hidden": false
    }
   },
   "outputs": [
    {
     "ename": "ValueError",
     "evalue": "invalid literal for int() with base 10: '3.4'",
     "output_type": "error",
     "traceback": [
      "\u001b[0;31m---------------------------------------------------------------------------\u001b[0m",
      "\u001b[0;31mValueError\u001b[0m                                Traceback (most recent call last)",
      "Cell \u001b[0;32mIn[48], line 3\u001b[0m\n\u001b[1;32m      1\u001b[0m \u001b[38;5;66;03m#I think it will give an error \u001b[39;00m\n\u001b[0;32m----> 3\u001b[0m \u001b[38;5;28mprint\u001b[39m(\u001b[38;5;124m'\u001b[39m\u001b[38;5;124mflactional string to int:\u001b[39m\u001b[38;5;124m'\u001b[39m, \u001b[38;5;28;43mint\u001b[39;49m\u001b[43m(\u001b[49m\u001b[38;5;124;43m'\u001b[39;49m\u001b[38;5;124;43m3.4\u001b[39;49m\u001b[38;5;124;43m'\u001b[39;49m\u001b[43m)\u001b[49m)\n",
      "\u001b[0;31mValueError\u001b[0m: invalid literal for int() with base 10: '3.4'"
     ]
    }
   ],
   "source": [
    "#I think it will give an error \n",
    "#actually gives an error\n",
    "print('flactional string to int:', int('3.4'))"
   ]
  },
  {
   "cell_type": "markdown",
   "metadata": {},
   "source": [
    "## Solution\n",
    "What do you expect this program to do? It would not be so unreasonable to expect the Python 3 `int` command to\n",
    "convert the string \"3.4\" to 3.4 and an additional type conversion to 3. After all, Python 3 performs a lot of other magic - isn't that part of its charm?\n",
    "\n",
    "However, Python 3 throws an error. Why? To be consistent, possibly. If you ask Python to perform two consecutive\n",
    "typecasts, you must convert it explicitly in code.\n",
    "\n",
    "~~~python\n",
    "int(\"3.4\")\n",
    "int(float(\"3.4\"))\n",
    "~~~"
   ]
  },
  {
   "cell_type": "code",
   "execution_count": 49,
   "metadata": {
    "collapsed": false,
    "jupyter": {
     "outputs_hidden": false
    }
   },
   "outputs": [
    {
     "data": {
      "text/plain": [
       "3"
      ]
     },
     "execution_count": 49,
     "metadata": {},
     "output_type": "execute_result"
    }
   ],
   "source": [
    "#you have to do both steps yourself...\n",
    "int(float('3.4'))"
   ]
  },
  {
   "cell_type": "markdown",
   "metadata": {},
   "source": [
    "## Arithmetic with Different Types\n",
    "\n",
    "Given these variable definitions:\n",
    "~~~python\n",
    "a = 1.0\n",
    "b = \"1\"\n",
    "c = \"1.1\"\n",
    "~~~\n",
    "\n",
    "Which of the following will return the floating point number `2.0`?\n",
    "Note: there may be more than one right answer.\n",
    "\n"
   ]
  },
  {
   "cell_type": "markdown",
   "metadata": {},
   "source": [
    "1. `a + float(b)`\n",
    "2. `float(b) + float(c)`\n",
    "3. `a + int(c)`\n",
    "4. `a + int(float(c))`\n",
    "5. `int(a) + int(float(c))`\n",
    "6. `2.0 * b`"
   ]
  },
  {
   "cell_type": "code",
   "execution_count": 52,
   "metadata": {
    "collapsed": false,
    "jupyter": {
     "outputs_hidden": false
    }
   },
   "outputs": [
    {
     "name": "stdout",
     "output_type": "stream",
     "text": [
      "2.0\n",
      "2.1\n",
      "2\n"
     ]
    }
   ],
   "source": [
    "a = 1.0\n",
    "b = '1'\n",
    "c = '1.1'\n",
    "\n",
    "# 1. will give 2.0\n",
    "print(a + float(b)) #(Correct)\n",
    "\n",
    "# 2. will give 2.1\n",
    "print(float(b) + float(c)) #(Correct)\n",
    "\n",
    "# 3. will give an ERROR\n",
    "#print(a + int(c)) (Correct)\n",
    "\n",
    "# 4. will give 2\n",
    "print(int(a) + int(float(c))) #(Correct)\n",
    "\n",
    "# 5. will give '1 1' \n",
    "#print(2.0 * b) (Gave an ERROR)"
   ]
  },
  {
   "cell_type": "markdown",
   "metadata": {},
   "source": [
    "---\n",
    "## Summary of Key Points:\n",
    "- Every value has a type\n",
    "- Use the built-in function `type` to find the type of a value\n",
    "- Types control what operations can be done on values\n",
    "- Strings can be added and multiplied\n",
    "- Strings have a length (but numbers don't)\n",
    "- Use the built-in function `len` to find the length of a string\n",
    "- Use an index to get a single character from a string\n",
    "- Use a slice to get a substring\n",
    "- Can mix integers and floats freely in operations\n",
    "- Must convert numbers to strings or vice versa when operating on them"
   ]
  },
  {
   "cell_type": "markdown",
   "metadata": {},
   "source": [
    "---\n",
    "This lesson is adapted from the [Software Carpentry](https://software-carpentry.org/lessons/) [Plotting and Programming in Python](http://swcarpentry.github.io/python-novice-gapminder/) workshop. "
   ]
  }
 ],
 "metadata": {
  "kernelspec": {
   "display_name": "neural_data_science",
   "language": "python",
   "name": "python3"
  },
  "language_info": {
   "codemirror_mode": {
    "name": "ipython",
    "version": 3
   },
   "file_extension": ".py",
   "mimetype": "text/x-python",
   "name": "python",
   "nbconvert_exporter": "python",
   "pygments_lexer": "ipython3",
   "version": "3.12.8"
  },
  "nteract": {
   "version": "0.28.0"
  }
 },
 "nbformat": 4,
 "nbformat_minor": 4
}
